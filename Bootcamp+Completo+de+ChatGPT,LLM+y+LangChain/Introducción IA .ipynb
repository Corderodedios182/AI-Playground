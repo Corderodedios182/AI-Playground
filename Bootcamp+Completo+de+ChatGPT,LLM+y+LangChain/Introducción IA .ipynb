{
 "cells": [
  {
   "cell_type": "markdown",
   "id": "483b7617-42d6-45f3-a4d4-f5b952abb7f5",
   "metadata": {},
   "source": [
    "### Fundamentos de la IA Generativa\n",
    "\n",
    "#### ¿Qué es un modelo LLM?\n",
    "\n",
    "Un modelo LLM (Large Language Model, por sus siglas en inglés) en inteligencia artificial es un tipo avanzado de modelo de procesamiento de lenguaje natural (NLP) que ha sido entrenado con una cantidad masiva de datos textuales para realizar una amplia variedad de tareas relacionadas con el lenguaje. Los modelos LLM son capaces de entender, generar y manipular texto de manera coherente y contextual.\n",
    "\n",
    "Dos tipos de LLM\n",
    "1. Base LLM : Predice la palabra siguiente a partir de los datos de entrenamiento\n",
    "\n",
    "2. Instrucción Tunde LLM : Preparados para seguir instrucciones (casi) arbitrarias\n",
    "\n",
    "Pasa de un LLM Base a un LLM ajustado a las instrucciones -> necesario entrenar un LLM Base con muchos datos.\n",
    "\n",
    "Seguir entrenando el modelo:\n",
    "- Ajuste fino en ejemplos en los que la salida sigue una instrucción de entrada.\n",
    "- Obteniendo valoraciones humanas de la calidad e los diferentes resultados del LLM con criterios como si es útil, honesto e inofensivo, etc.\n",
    "- Ajustar el LLM para aumentar la probabilidad de que genere los resultados mejor valorados (utilizando RLHF)\n",
    "\n",
    "#### ¿Qué es IA Generativa?\n",
    "\n",
    "Algoritmo de Inteligencia Artificial que pueden generar contenido nuevo apartir de datos nuevos o existentes.\n",
    "\n",
    "Modelos de IA Generativa :\n",
    "- ChatGPT : \n",
    "- DALL-E : Generación de imagenes\n",
    "- Stable Difussion : https://www.stablediffusionai.ai/\n",
    "- Dream Booth : https://dreambooth.github.io/\n",
    "- MIDJOURNEY : https://www.midjourney.com/home\n",
    "\n",
    "#### Modelos Discriminativos vs Generativos\n",
    "\n",
    "- Modelos Discriminativos : Se utilizan para identificar si una observación pertenece a una clase determinada.\n",
    "\n",
    "- Modelo Generativo : Genera nueva información apartir de lo aprendido del conjunto de datos de entrenamiento.\n",
    "\n",
    "#### Tipos de modelos generativos de IA\n",
    "\n",
    "Hay varios modelos de IA generativa, cada uno con enfoques y aplicaciones únicos.\n",
    "\n",
    "- GANS (Generative adversarial network architecture) : Es un tipo de model utilizado **para generar nuevos datos similares** a los datos de entrenamiento.\n",
    "Compuesto por 2 redes neuronales, una generadora y otra discriminadora. La red generadora crea nuevos datos y la red discriminadora los distingue de los datos originales.\n",
    "Usos en generación de imágenes/videos.\n",
    "\n",
    "- Transformers : El modelo basado en Transformers utiliza un mecanismo de autoatención para capturar el contexto y las dependencias de largo alcance. \n",
    "Es capaz de generar texto de alta calidad y capturar patrones y matrices lingísticos complejos.\n",
    "Usos en tareas de lenguaje natural \n",
    "\n",
    "- VAE : Utiliza una red neuronal para codificar los datos de entrada en una representación de menor dimensión y decodificar para generar nuevos datos.\n",
    "Generación de un Espacio Latente entre el Encoder y Decoder\n",
    "El \"espacio latente\" es un proceso de reducción de dimensionalidad para preservar la información.\n",
    "En este espacio, objetos similares permanecen cercanos. Se utilizan en los codificadores automáticos para generar nuevas imágenes mediante la manipulación del espacio latente.\n",
    "Uso producción de texto, audio e imágenes con modificaciones.\n",
    "\n",
    "#### Desafíos\n",
    "El desafío en la IA Generativa es equilibar la complejidad y simplicidad del modelo para capturar matices y evitar sobreajuste. Además, el costo computacional dificulta la escalabilidad\n",
    "de los modelos generativos a grandes conjuntos de datos.\n",
    "\n",
    "\n",
    "\n"
   ]
  },
  {
   "cell_type": "markdown",
   "id": "a71191da-d924-482b-a97f-7d9abe38fec9",
   "metadata": {},
   "source": [
    "### Transformes\n",
    "\n",
    "#### Arquitectura general\n",
    "\n",
    "El modelo consta de 2 bloques\n"
   ]
  }
 ],
 "metadata": {
  "kernelspec": {
   "display_name": "Python 3 (ipykernel)",
   "language": "python",
   "name": "python3"
  },
  "language_info": {
   "codemirror_mode": {
    "name": "ipython",
    "version": 3
   },
   "file_extension": ".py",
   "mimetype": "text/x-python",
   "name": "python",
   "nbconvert_exporter": "python",
   "pygments_lexer": "ipython3",
   "version": "3.9.12"
  }
 },
 "nbformat": 4,
 "nbformat_minor": 5
}
