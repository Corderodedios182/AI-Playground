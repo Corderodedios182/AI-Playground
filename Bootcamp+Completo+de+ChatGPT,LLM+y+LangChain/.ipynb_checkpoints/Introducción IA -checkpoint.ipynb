{
 "cells": [
  {
   "cell_type": "markdown",
   "id": "483b7617-42d6-45f3-a4d4-f5b952abb7f5",
   "metadata": {},
   "source": [
    "#### ¿Qué es un modelo LLM?\n",
    "\n",
    "Un modelo LLM (Large Language Model, por sus siglas en inglés) en inteligencia artificial es un tipo avanzado de modelo de procesamiento de lenguaje natural (NLP) que ha sido entrenado con una cantidad masiva de datos textuales para realizar una amplia variedad de tareas relacionadas con el lenguaje. Los modelos LLM son capaces de entender, generar y manipular texto de manera coherente y contextual.\n",
    "\n",
    "Dos tipos de LLM\n",
    "1. Base LLM : Predice la palabra siguiente a partir de los datos de entrenamiento\n",
    "\n",
    "2. Instrucción Tunde LLM : Preparados para seguir instrucciones (casi) arbitrarias\n",
    "\n",
    "Pasa de un LLM Base a un LLM ajustado a las instrucciones -> necesario entrenar un LLM Base con muchos datos.\n",
    "\n",
    "Seguir entrenando el modelo:\n",
    "- Ajuste fino en ejemplos en los que la salida sigue una instrucción de entrada.\n",
    "- Obteniendo valoraciones humanas de la calidad e los diferentes resultados del LLM con criterios como si es útil, honesto e inofensivo, etc.\n",
    "- Ajustar el LLM para aumentar la probabilidad de que genere los resultados mejor valorados (utilizando RLHF)\n",
    "\n",
    "#### ¿Qué es IA Generativa?\n",
    "\n",
    "Algoritmo de Inteligencia Artificial que pueden generar contenido nuevo apartir de datos nuevos o existentes.\n",
    "\n",
    "Modelos de IA Generativa :\n",
    "- ChatGPT : \n",
    "- DALL-E : Generación de imagenes\n",
    "- Stable Difussion : https://www.stablediffusionai.ai/\n",
    "- Dream Booth : https://dreambooth.github.io/\n",
    "- MIDJOURNEY : https://www.midjourney.com/home\n",
    "\n",
    "#### Modelos Discriminativos vs Generativos\n",
    "\n",
    "Modelos Discriminativos : Se utilizan para identificar si una observación pertenece a una clase determinada.\n",
    "\n",
    "Modelo Generativo : Genera nueva información apartir de lo aprendido del conjunto de datos de entrenamiento.\n",
    "\n",
    "#### Tipos de modelos generativos de IA\n",
    "\n",
    "Hay varios modelos de IA generativa, cada uno con enfoques y aplicaciones únicos.\n",
    "\n",
    "GANS (Generative adversarial network architecture) : Es un tipo de model utilizado **para generar nuevos datos similares** a los datos de entrenamiento.\n",
    "Compuesto por 2 redes neuronales, una generadora y otra discriminadora. La red generadora crea nuevos datos y la red discriminadora los distingue de los datos originales.\n",
    "Usos en generación de imágenes/videos.\n",
    "\n",
    "Transformers : \n",
    "\n",
    "VAE : \n",
    "\n",
    "\n"
   ]
  }
 ],
 "metadata": {
  "kernelspec": {
   "display_name": "Python 3 (ipykernel)",
   "language": "python",
   "name": "python3"
  },
  "language_info": {
   "codemirror_mode": {
    "name": "ipython",
    "version": 3
   },
   "file_extension": ".py",
   "mimetype": "text/x-python",
   "name": "python",
   "nbconvert_exporter": "python",
   "pygments_lexer": "ipython3",
   "version": "3.11.7"
  }
 },
 "nbformat": 4,
 "nbformat_minor": 5
}
