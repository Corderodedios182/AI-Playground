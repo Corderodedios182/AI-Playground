{
 "cells": [
  {
   "cell_type": "code",
   "execution_count": null,
   "metadata": {
    "colab": {
     "base_uri": "https://localhost:8080/"
    },
    "id": "hEtwUU9bQBk8",
    "outputId": "9bf7633c-47dd-41a6-bc5a-763896aca7f4"
   },
   "outputs": [
    {
     "data": {
      "text/plain": [
       "[[{'label': 'LABEL_2', 'score': 0.9782516956329346},\n",
       "  {'label': 'LABEL_1', 'score': 0.018881788477301598},\n",
       "  {'label': 'LABEL_0', 'score': 0.0028664814308285713}]]"
      ]
     },
     "execution_count": 5,
     "metadata": {},
     "output_type": "execute_result"
    }
   ],
   "source": [
    "import requests\n",
    "\n",
    "API_URL = \"https://api-inference.huggingface.co/models/cardiffnlp/twitter-roberta-base-sentiment\"\n",
    "headers = {\"Authorization\": \"Bearer hf_xxxxx\"}\n",
    "\n",
    "def query(payload):\n",
    "\tresponse = requests.post(API_URL, headers=headers, json=payload)\n",
    "\treturn response.json()\n",
    "\n",
    "output = query({\n",
    "\t\"inputs\": \"I like you. I love you\",\n",
    "})\n",
    "output"
   ]
  },
  {
   "cell_type": "code",
   "execution_count": null,
   "metadata": {
    "colab": {
     "base_uri": "https://localhost:8080/"
    },
    "id": "ghCkb5hqQIE4",
    "outputId": "0c620f79-98f8-4ef0-d82b-5262c0dd30fe"
   },
   "outputs": [
    {
     "data": {
      "text/plain": [
       "[{'label': 'LABEL_2', 'score': 0.9782516956329346},\n",
       " {'label': 'LABEL_1', 'score': 0.018881788477301598},\n",
       " {'label': 'LABEL_0', 'score': 0.0028664814308285713}]"
      ]
     },
     "execution_count": 6,
     "metadata": {},
     "output_type": "execute_result"
    }
   ],
   "source": [
    "output[0]"
   ]
  },
  {
   "cell_type": "code",
   "execution_count": null,
   "metadata": {
    "colab": {
     "base_uri": "https://localhost:8080/"
    },
    "id": "_HJq0eZ-QOFX",
    "outputId": "367d4db1-fd02-4796-c7db-0dc22621dfad"
   },
   "outputs": [
    {
     "data": {
      "text/plain": [
       "[{'label': 'LABEL_2', 'score': 0.9782516956329346},\n",
       " {'label': 'LABEL_1', 'score': 0.018881788477301598},\n",
       " {'label': 'LABEL_0', 'score': 0.0028664814308285713}]"
      ]
     },
     "execution_count": 7,
     "metadata": {},
     "output_type": "execute_result"
    }
   ],
   "source": [
    "sorted_output = sorted(output[0], key=lambda d: d['score'],reverse=True)\n",
    "sorted_output"
   ]
  },
  {
   "cell_type": "code",
   "execution_count": null,
   "metadata": {
    "colab": {
     "base_uri": "https://localhost:8080/"
    },
    "id": "GxO7pU4qRVvo",
    "outputId": "63d4e0fc-cb4f-4a50-d9ae-6786f2eb0cc3"
   },
   "outputs": [
    {
     "data": {
      "text/plain": [
       "{'label': 'LABEL_2', 'score': 0.9782516956329346}"
      ]
     },
     "execution_count": 8,
     "metadata": {},
     "output_type": "execute_result"
    }
   ],
   "source": [
    "prediction = sorted_output[0]\n",
    "prediction"
   ]
  },
  {
   "cell_type": "code",
   "execution_count": null,
   "metadata": {
    "id": "EOvTojxaQzsx"
   },
   "outputs": [],
   "source": [
    "label_mapping = {\n",
    "    'LABEL_0':'Negative',\n",
    "    'LABEL_1':'Neutral',\n",
    "    'LABEL_2':'Positive'\n",
    "}"
   ]
  },
  {
   "cell_type": "code",
   "execution_count": null,
   "metadata": {
    "colab": {
     "base_uri": "https://localhost:8080/",
     "height": 36
    },
    "id": "l4yngO4DRSeC",
    "outputId": "d3d35398-2dbe-4923-c35f-11b3b5f337a1"
   },
   "outputs": [
    {
     "data": {
      "application/vnd.google.colaboratory.intrinsic+json": {
       "type": "string"
      },
      "text/plain": [
       "'Positive'"
      ]
     },
     "execution_count": 10,
     "metadata": {},
     "output_type": "execute_result"
    }
   ],
   "source": [
    "label_mapping[prediction['label']]"
   ]
  },
  {
   "cell_type": "code",
   "execution_count": null,
   "metadata": {
    "id": "3G7Z-ePnRdBQ"
   },
   "outputs": [],
   "source": []
  }
 ],
 "metadata": {
  "colab": {
   "provenance": []
  },
  "kernelspec": {
   "display_name": "Python 3 (ipykernel)",
   "language": "python",
   "name": "python3"
  },
  "language_info": {
   "codemirror_mode": {
    "name": "ipython",
    "version": 3
   },
   "file_extension": ".py",
   "mimetype": "text/x-python",
   "name": "python",
   "nbconvert_exporter": "python",
   "pygments_lexer": "ipython3",
   "version": "3.11.7"
  }
 },
 "nbformat": 4,
 "nbformat_minor": 4
}
