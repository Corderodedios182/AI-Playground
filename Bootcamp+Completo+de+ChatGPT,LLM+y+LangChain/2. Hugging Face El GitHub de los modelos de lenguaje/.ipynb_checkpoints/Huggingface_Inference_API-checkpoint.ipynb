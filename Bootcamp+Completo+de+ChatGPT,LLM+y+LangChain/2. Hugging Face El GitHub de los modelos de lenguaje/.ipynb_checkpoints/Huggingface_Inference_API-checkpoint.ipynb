{
  "nbformat": 4,
  "nbformat_minor": 0,
  "metadata": {
    "colab": {
      "provenance": []
    },
    "kernelspec": {
      "name": "python3",
      "display_name": "Python 3"
    },
    "language_info": {
      "name": "python"
    }
  },
  "cells": [
    {
      "cell_type": "code",
      "execution_count": null,
      "metadata": {
        "colab": {
          "base_uri": "https://localhost:8080/"
        },
        "id": "hEtwUU9bQBk8",
        "outputId": "9bf7633c-47dd-41a6-bc5a-763896aca7f4"
      },
      "outputs": [
        {
          "output_type": "execute_result",
          "data": {
            "text/plain": [
              "[[{'label': 'LABEL_2', 'score': 0.9782516956329346},\n",
              "  {'label': 'LABEL_1', 'score': 0.018881788477301598},\n",
              "  {'label': 'LABEL_0', 'score': 0.0028664814308285713}]]"
            ]
          },
          "metadata": {},
          "execution_count": 5
        }
      ],
      "source": [
        "import requests\n",
        "\n",
        "API_URL = \"https://api-inference.huggingface.co/models/cardiffnlp/twitter-roberta-base-sentiment\"\n",
        "headers = {\"Authorization\": \"Bearer hf_xxxxx\"}\n",
        "\n",
        "def query(payload):\n",
        "\tresponse = requests.post(API_URL, headers=headers, json=payload)\n",
        "\treturn response.json()\n",
        "\n",
        "output = query({\n",
        "\t\"inputs\": \"I like you. I love you\",\n",
        "})\n",
        "output"
      ]
    },
    {
      "cell_type": "code",
      "source": [
        "output[0]"
      ],
      "metadata": {
        "colab": {
          "base_uri": "https://localhost:8080/"
        },
        "id": "ghCkb5hqQIE4",
        "outputId": "0c620f79-98f8-4ef0-d82b-5262c0dd30fe"
      },
      "execution_count": null,
      "outputs": [
        {
          "output_type": "execute_result",
          "data": {
            "text/plain": [
              "[{'label': 'LABEL_2', 'score': 0.9782516956329346},\n",
              " {'label': 'LABEL_1', 'score': 0.018881788477301598},\n",
              " {'label': 'LABEL_0', 'score': 0.0028664814308285713}]"
            ]
          },
          "metadata": {},
          "execution_count": 6
        }
      ]
    },
    {
      "cell_type": "code",
      "source": [
        "sorted_output = sorted(output[0], key=lambda d: d['score'],reverse=True)\n",
        "sorted_output"
      ],
      "metadata": {
        "colab": {
          "base_uri": "https://localhost:8080/"
        },
        "id": "_HJq0eZ-QOFX",
        "outputId": "367d4db1-fd02-4796-c7db-0dc22621dfad"
      },
      "execution_count": null,
      "outputs": [
        {
          "output_type": "execute_result",
          "data": {
            "text/plain": [
              "[{'label': 'LABEL_2', 'score': 0.9782516956329346},\n",
              " {'label': 'LABEL_1', 'score': 0.018881788477301598},\n",
              " {'label': 'LABEL_0', 'score': 0.0028664814308285713}]"
            ]
          },
          "metadata": {},
          "execution_count": 7
        }
      ]
    },
    {
      "cell_type": "code",
      "source": [
        "prediction = sorted_output[0]\n",
        "prediction"
      ],
      "metadata": {
        "colab": {
          "base_uri": "https://localhost:8080/"
        },
        "id": "GxO7pU4qRVvo",
        "outputId": "63d4e0fc-cb4f-4a50-d9ae-6786f2eb0cc3"
      },
      "execution_count": null,
      "outputs": [
        {
          "output_type": "execute_result",
          "data": {
            "text/plain": [
              "{'label': 'LABEL_2', 'score': 0.9782516956329346}"
            ]
          },
          "metadata": {},
          "execution_count": 8
        }
      ]
    },
    {
      "cell_type": "code",
      "source": [
        "label_mapping = {\n",
        "    'LABEL_0':'Negative',\n",
        "    'LABEL_1':'Neutral',\n",
        "    'LABEL_2':'Positive'\n",
        "}"
      ],
      "metadata": {
        "id": "EOvTojxaQzsx"
      },
      "execution_count": null,
      "outputs": []
    },
    {
      "cell_type": "code",
      "source": [
        "label_mapping[prediction['label']]"
      ],
      "metadata": {
        "colab": {
          "base_uri": "https://localhost:8080/",
          "height": 36
        },
        "id": "l4yngO4DRSeC",
        "outputId": "d3d35398-2dbe-4923-c35f-11b3b5f337a1"
      },
      "execution_count": null,
      "outputs": [
        {
          "output_type": "execute_result",
          "data": {
            "text/plain": [
              "'Positive'"
            ],
            "application/vnd.google.colaboratory.intrinsic+json": {
              "type": "string"
            }
          },
          "metadata": {},
          "execution_count": 10
        }
      ]
    },
    {
      "cell_type": "code",
      "source": [],
      "metadata": {
        "id": "3G7Z-ePnRdBQ"
      },
      "execution_count": null,
      "outputs": []
    }
  ]
}