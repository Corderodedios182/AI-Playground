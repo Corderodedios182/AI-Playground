{
 "cells": [
  {
   "cell_type": "markdown",
   "id": "8d6a6128-8a4a-4f6f-b558-a5b96ddf0bd4",
   "metadata": {},
   "source": [
    "**Bases de datos vectoriales**\n",
    "\n",
    "En esta sección, demostramos algunos casos de uso comunes de incrustación con algunos ejemplos simples. La distancia euclidiana se utiliza para calcular la similitud entre dos fragmentos de texto.\n",
    "\n",
    "**Búsqueda y recomendación**\n",
    "\n",
    "Supongamos que tiene una colección de documentos (el conjunto de datos). Cada documento está representado por su incrustación. Se le ha proporcionado una cadena de consulta. La solicitud es identificar el documento que es más relevante para la cadena de consulta. Puede lograr esto con los siguientes pasos:\n",
    "\n",
    "Se tarda unos 3 minutos en generar la incrustación de 1000 frases de forma secuencial."
   ]
  },
  {
   "cell_type": "code",
   "execution_count": 1,
   "id": "2dafb274-c451-4ff5-9984-c40ac71632a7",
   "metadata": {},
   "outputs": [
    {
     "name": "stdout",
     "output_type": "stream",
     "text": [
      "Dataset created.\n"
     ]
    }
   ],
   "source": [
    "import json\n",
    "import boto3\n",
    "\n",
    "def get_embedding(bedrock, text):\n",
    "    modelId = 'amazon.titan-embed-text-v1'\n",
    "    accept = 'application/json'\n",
    "    contentType = 'application/json'\n",
    "    input = {\n",
    "            'inputText': text\n",
    "        }\n",
    "    body=json.dumps(input)\n",
    "    response = bedrock.invoke_model(\n",
    "        body=body, modelId=modelId, accept=accept,contentType=contentType)\n",
    "    response_body = json.loads(response.get('body').read())\n",
    "    embedding = response_body['embedding']\n",
    "    return embedding\n",
    "\n",
    "# main function\n",
    "bedrock = boto3.client(\n",
    "    service_name='bedrock-runtime'\n",
    ")\n",
    "# some random data\n",
    "people = ['Albert Einstein', 'Isaac Newton', 'Stephen Hawking', \n",
    "          'Galileo Galilei', 'Niels Bohr', 'Werner Heisenberg', \n",
    "          'Marie Curie', 'Ernest Rutherford', 'Michael Faraday', 'Richard Feynman']\n",
    "actions = ['plays basketball', 'teaches physics', 'sells sea shells', \n",
    "           'collects tax', 'drives buses', 'researches into gravity', \n",
    "           'manages a shop', 'supervises graduate students', \n",
    "           'works as a support engineer', 'runs a bank']\n",
    "places = ['London', 'Sydney', 'Los Angeles', 'San Francisco', 'Beijing', \n",
    "          'Cape Town', 'Paris', 'Cairo', 'New Delhi', 'Seoul']\n",
    "# create a data file\n",
    "count = 10000\n",
    "with open('dataset.json', 'w') as outfile:\n",
    "    for name in people:\n",
    "        for action in actions:\n",
    "            for place in places:\n",
    "                id   = count\n",
    "                text = '{name} {action} in {place}.'.format(name=name, action=action, place=place)\n",
    "                embedding = get_embedding(bedrock, text)\n",
    "                item = {'id': id, 'text': text, 'embedding': embedding}\n",
    "                json_object = json.dumps(item)\n",
    "                outfile.write(json_object + '\\n')\n",
    "                count = count + 1\n",
    "    print('Dataset created.')\n"
   ]
  },
  {
   "cell_type": "markdown",
   "id": "4f36c59e-3a89-4a31-b645-75a3dd6075ba",
   "metadata": {},
   "source": [
    "Espere a que el código termine de ejecutarse e inspeccione el tamaño del archivo de salida. Con 1000 entradas de datos, el tamaño del archivo es de 18.767.288 bytes. En promedio, es de aproximadamente 18767 bytes por entrada de datos. Tenga en cuenta que el tamaño del id y el texto combinados es inferior a 100 bytes. La incrustación es el componente principal en términos de tamaño de datos.\n",
    "\n",
    "En el siguiente código de ejemplo se muestra cómo realizar una búsqueda entre el conjunto de datos."
   ]
  },
  {
   "cell_type": "code",
   "execution_count": 2,
   "id": "18826795-7acc-47da-8e59-2dd2ef3b5cbc",
   "metadata": {},
   "outputs": [
    {
     "name": "stdout",
     "output_type": "stream",
     "text": [
      "40.870999999999995ms in calculating distances\n",
      "0.294ms in sorting distances\n",
      "Marie Curie sells sea shells in Los Angeles.\n"
     ]
    }
   ],
   "source": [
    "import json\n",
    "import boto3\n",
    "import math\n",
    "from datetime import datetime\n",
    "\n",
    "def get_embedding(bedrock, text):\n",
    "    modelId = 'amazon.titan-embed-text-v1'\n",
    "    accept = 'application/json'\n",
    "    contentType = 'application/json'\n",
    "    input = {\n",
    "            'inputText': text\n",
    "        }\n",
    "    body=json.dumps(input)\n",
    "    response = bedrock.invoke_model(\n",
    "        body=body, modelId=modelId, accept=accept,contentType=contentType)\n",
    "    response_body = json.loads(response.get('body').read())\n",
    "    embedding = response_body['embedding']\n",
    "    return embedding\n",
    "\n",
    "def load_dataset(filename):\n",
    "    dataset = []\n",
    "    with open(filename) as file:\n",
    "        for line in file:\n",
    "            dataset.append(json.loads(line))\n",
    "    return dataset\n",
    "\n",
    "def calculate_distance(v1, v2):\n",
    "    distance = math.dist(v1, v2)\n",
    "    return distance\n",
    "    \n",
    "def search(dataset, embedding):\n",
    "    t1 = datetime.now()\n",
    "    for item in dataset:\n",
    "        item['distance'] = calculate_distance(item['embedding'], embedding)\n",
    "    t2 = datetime.now()\n",
    "    delta = t2 - t1\n",
    "    ms1 = 1000 * delta.total_seconds()\n",
    "    dataset.sort(key=lambda x: x['distance'])\n",
    "    t3 = datetime.now()\n",
    "    delta = t3 - t2\n",
    "    ms2 = 1000 * delta.total_seconds()\n",
    "    print(str(ms1) + 'ms in calculating distances')\n",
    "    print(str(ms2) + 'ms in sorting distances')\n",
    "    return dataset[0]['text']\n",
    "\n",
    "# main function\n",
    "bedrock = boto3.client(\n",
    "    service_name='bedrock-runtime'\n",
    ")\n",
    "dataset = load_dataset('dataset.json')\n",
    "query   = 'Lady Gaga purchased a necklace in Singapore.'\n",
    "embedding = get_embedding(bedrock, query)\n",
    "result  = search(dataset, embedding)\n",
    "print(result)\n"
   ]
  },
  {
   "cell_type": "markdown",
   "id": "c8383d9b-7ea8-4cd5-9c00-048bd0475d6a",
   "metadata": {},
   "source": [
    "Este código de ejemplo también imprime el tiempo que dedicamos a calcular las distancias (que es un componente principal) y el tiempo que dedicamos a ordenar las distancias (que es un componente secundario).\n",
    "\n",
    "Tenga en cuenta que calculamos la distancia entre el texto de la consulta y todas las entradas del conjunto de datos. Con este diseño, la complejidad de cálculo es cercana a O(n). Al agregar más datos al conjunto de datos, se espera que el tiempo de cálculo aumente linealmente."
   ]
  },
  {
   "cell_type": "markdown",
   "id": "d2a570b6-4246-4206-92a1-cd4428706281",
   "metadata": {},
   "source": [
    "**pgvector**\n",
    "\n",
    "PostgreSQL tiene una extensión pgvector para la búsqueda de similitud vectorial. La ventaja de pgvector es que la mayoría de los lenguajes de programación tienen la biblioteca para conectarse a PostgreSQL. Además, los clientes pueden usar su cliente SQL favorito para trabajar con los datos durante la creación de prototipos y la resolución de problemas.\n",
    "\n",
    "Amazon RDS for PostgreSQL (versión 15.3 o posterior) es compatible con pgvector. Para este taller, se ha creado una instancia de RDS PosgreSQL en su cuenta de AWS en el paso Prerequisites (Requisitos previos). Las credenciales de conexión a la base de datos se almacenan en AWS Secrets Manager. En la consola de AWS Secrets Manager, haga clic en Secrets (Secretos) en el panel de navegación para ver una lista de los secretos de su cuenta de AWS. El nombre del secreto de este taller es bedrock-workshop-xxxxxxxx. Vamos a almacenar el nombre secreto en una variable para que podamos usarlo más tarde."
   ]
  },
  {
   "cell_type": "code",
   "execution_count": 4,
   "id": "552b7b36-ddf1-43fb-b4f4-d6d0ba21c45f",
   "metadata": {},
   "outputs": [],
   "source": [
    "secret_name = 'bedrock-workshop-78a084d0'"
   ]
  },
  {
   "cell_type": "markdown",
   "id": "ce2a29b3-8e5b-410c-b44a-bb8c36eee65c",
   "metadata": {},
   "source": [
    "**Cargar datos de muestra**\n",
    "\n",
    "El siguiente código de ejemplo carga el conjunto de datos que creamos anteriormente en la base de datos."
   ]
  },
  {
   "cell_type": "code",
   "execution_count": 5,
   "id": "a93ad941-7f92-40ba-9429-24679f62de56",
   "metadata": {},
   "outputs": [
    {
     "name": "stdout",
     "output_type": "stream",
     "text": [
      "Table created.\n"
     ]
    }
   ],
   "source": [
    "import json\n",
    "import boto3\n",
    "import psycopg2\n",
    "from botocore.exceptions import ClientError\n",
    "\n",
    "def get_secrets():\n",
    "    client = boto3.client(\n",
    "        service_name='secretsmanager',\n",
    "    )\n",
    "    try:\n",
    "        get_secret_value_response = client.get_secret_value(\n",
    "            SecretId=secret_name\n",
    "        )\n",
    "    except ClientError as e:\n",
    "        raise e\n",
    "    secrets = json.loads(get_secret_value_response['SecretString'])\n",
    "    return secrets\n",
    "    \n",
    "def load_dataset(filename):\n",
    "    dataset = []\n",
    "    with open(filename) as file:\n",
    "        for line in file:\n",
    "            dataset.append(json.loads(line))\n",
    "    return dataset\n",
    "    \n",
    "# main function\n",
    "secrets = get_secrets()\n",
    "conn = psycopg2.connect(\n",
    "    host=secrets['db_hostname'],\n",
    "    port=secrets['db_hostport'],\n",
    "    user=secrets['db_username'],\n",
    "    password=secrets['db_password'],\n",
    "    database=secrets['db_database']\n",
    ")\n",
    "cursor = conn.cursor()\n",
    "cursor.execute('CREATE EXTENSION vector')\n",
    "cursor.execute('CREATE TABLE dataset (id SERIAL, content TEXT, embedding VECTOR(1536))')\n",
    "conn.commit()\n",
    "print('Table created.')\n"
   ]
  },
  {
   "cell_type": "markdown",
   "id": "ae9c0303-217c-4638-b356-9d05e09d96b6",
   "metadata": {},
   "source": [
    "**Realizar una búsqueda**\n",
    "\n",
    "En el siguiente código de ejemplo se muestra cómo realizar una búsqueda entre el conjunto de datos.\n",
    "\n",
    "En la instrucción SQL, operador significa usar la distancia euclidiana para calcular la similitud entre vectores. También puede utilizar el operador de producto interno o la distancia de coseno para calcular la similitud entre vectores.<-><#><=>"
   ]
  },
  {
   "cell_type": "code",
   "execution_count": 6,
   "id": "dddae386-008b-4110-9056-b9baefcd8b88",
   "metadata": {},
   "outputs": [
    {
     "name": "stdout",
     "output_type": "stream",
     "text": [
      "[]\n"
     ]
    }
   ],
   "source": [
    "import json\n",
    "import boto3\n",
    "import psycopg2\n",
    "from botocore.exceptions import ClientError\n",
    "from datetime import datetime\n",
    "\n",
    "def get_secrets():\n",
    "    client = boto3.client(\n",
    "        service_name='secretsmanager',\n",
    "    )\n",
    "    try:\n",
    "        get_secret_value_response = client.get_secret_value(\n",
    "            SecretId=secret_name\n",
    "        )\n",
    "    except ClientError as e:\n",
    "        raise e\n",
    "    secrets = json.loads(get_secret_value_response['SecretString'])\n",
    "    return secrets\n",
    "\n",
    "def get_embedding(bedrock, text):\n",
    "    modelId = 'amazon.titan-embed-text-v1'\n",
    "    accept = 'application/json'\n",
    "    contentType = 'application/json'\n",
    "    input = {\n",
    "            'inputText': text\n",
    "        }\n",
    "    body=json.dumps(input)\n",
    "    response = bedrock.invoke_model(\n",
    "        body=body, modelId=modelId, accept=accept,contentType=contentType)\n",
    "    response_body = json.loads(response.get('body').read())\n",
    "    embedding = response_body['embedding']\n",
    "    return embedding\n",
    "\n",
    "def search(bedrock, cursor, query, limit):\n",
    "    embedding = str(get_embedding(bedrock, query))\n",
    "    sql = 'SELECT id, content FROM dataset ORDER BY embedding <-> %s LIMIT %s'\n",
    "    cursor.execute(sql, (embedding, limit))\n",
    "    result = []\n",
    "    for row in cursor:\n",
    "        result.append(row)\n",
    "    return result\n",
    "    \n",
    "# main function\n",
    "bedrock = boto3.client(\n",
    "    service_name='bedrock-runtime'\n",
    ")\n",
    "secrets = get_secrets()\n",
    "conn = psycopg2.connect(\n",
    "    host=secrets['db_hostname'],\n",
    "    port=secrets['db_hostport'],\n",
    "    user=secrets['db_username'],\n",
    "    password=secrets['db_password'],\n",
    "    database=secrets['db_database']\n",
    ")\n",
    "cursor = conn.cursor()\n",
    "query   = 'Lady Gaga purchased a necklace in Singapore.'\n",
    "result = search(bedrock, cursor, query, 1)\n",
    "print(result)\n"
   ]
  },
  {
   "cell_type": "markdown",
   "id": "fffc0e3f-235f-45c6-a2a5-623ae54ebd66",
   "metadata": {},
   "source": [
    "En comparación con el enfoque de archivos JSON, pgvector facilita las cosas al ocultar los detalles relacionados con el almacenamiento y el algoritmo. Todo lo que necesita hacer es enviar una consulta SQL al servidor de base de datos.\n",
    "\n",
    "**Búsqueda vectorial sin servidor de OpenSearch**\n",
    "\n",
    "Amazon OpenSearch Serverless es una configuración sin servidor bajo demanda para Amazon OpenSearch Service. La tecnología sin servidor elimina las complejidades operativas del aprovisionamiento, la configuración y el ajuste de los clústeres de OpenSearch. Una colección sin servidor de OpenSearch es un grupo de índices de OpenSearch que funcionan juntos para admitir una carga de trabajo o un caso de uso específicos. Las colecciones son más fáciles de usar que los clústeres de OpenSearch autoadministrados, que requieren aprovisionamiento manual.\n",
    "\n",
    "Para este taller, se ha creado una colección OpenSearch Serverless en su cuenta de AWS en el paso Prerequisites (Requisitos previos). En la consola de Amazon OpenSearch Service, seleccione Collections (Colecciones) en el panel de navegación. El nombre de la colección de este taller es bedrock-workshop-collection. Haga clic en el nombre de la colección para ver los detalles de la colección. Tome nota del punto de conexión (host) de OpenSearch de la colección.\n",
    "\n",
    "Vamos a crear dos variables para almacenar el nombre de la región de AWS y el punto de enlace de OpenSearch (host) de la colección OpenSearch Serverless. En este ejemplo, usamos la región us-west-2. Debe cambiarlo a la región de AWS que está utilizando."
   ]
  },
  {
   "cell_type": "code",
   "execution_count": 7,
   "id": "646a1d9c-cf5e-42bc-b3bf-18b603af3782",
   "metadata": {},
   "outputs": [],
   "source": [
    "region = 'us-west-2'\n",
    "host = 'https://5tl3o6l27r1pcm2hddk9.us-west-2.aoss.amazonaws.com'"
   ]
  },
  {
   "cell_type": "markdown",
   "id": "75fcf42a-c5b6-4d41-9f8b-77524216c132",
   "metadata": {},
   "source": [
    "**Crear un índice**\n",
    "\n",
    "En el código de ejemplo siguiente se crea un nuevo índice en la colección. El nombre del índice es demo-index. Asegúrese de utilizar la región y el host de AWS correctos (punto de enlace de OpenSearch) en el código."
   ]
  },
  {
   "cell_type": "code",
   "execution_count": 8,
   "id": "4882b947-1fb7-4a41-9473-012dc204610b",
   "metadata": {},
   "outputs": [
    {
     "name": "stdout",
     "output_type": "stream",
     "text": [
      "{'acknowledged': True, 'shards_acknowledged': True, 'index': 'demo-index'}\n"
     ]
    }
   ],
   "source": [
    "import boto3\n",
    "import requests\n",
    "from requests_aws4auth import AWS4Auth\n",
    "\n",
    "service = 'aoss'\n",
    "credentials = boto3.Session().get_credentials()\n",
    "awsauth = AWS4Auth(\n",
    "    credentials.access_key, \n",
    "    credentials.secret_key, \n",
    "    region, \n",
    "    service, \n",
    "    session_token=credentials.token\n",
    ")\n",
    "\n",
    "index = 'demo-index'\n",
    "url = host + '/' + index\n",
    "\n",
    "headers = {'Content-Type': 'application/json'}\n",
    "document = {\n",
    "   'settings': {\n",
    "      'index.knn': True\n",
    "   },\n",
    "   'mappings': {\n",
    "      'properties': {\n",
    "         'embedding': {\n",
    "            'type': 'knn_vector',\n",
    "            'dimension': 1536\n",
    "         },\n",
    "         'content': {\n",
    "            'type': 'text'\n",
    "         }\n",
    "      }\n",
    "   }\n",
    "}\n",
    "response = requests.put(url, auth=awsauth, json=document, headers=headers)\n",
    "response.raise_for_status()\n",
    "print(response.json())\n",
    "\n",
    "#Si se produce el siguiente error, debe volver a comprobar los permisos de este rol de IAM AmazonBedrockWorkshopStackSageMakerRole y\n",
    "#la política de acceso a datos para la recopilación sin servidor de OpenSearch.\n",
    "#HTTPError: 403 Client Error: Forbidden for url: https://********.********.amazonaws.com/demo-index\n"
   ]
  },
  {
   "cell_type": "code",
   "execution_count": 9,
   "id": "b1a59ff3-77f9-4679-802d-8a9586e70697",
   "metadata": {},
   "outputs": [
    {
     "name": "stdout",
     "output_type": "stream",
     "text": [
      "Data loaded into OpenSearch Serverless collection.\n"
     ]
    }
   ],
   "source": [
    "import json\n",
    "import boto3\n",
    "import requests\n",
    "from requests_aws4auth import AWS4Auth\n",
    "\n",
    "def load_dataset(filename):\n",
    "    dataset = []\n",
    "    with open(filename) as file:\n",
    "        for line in file:\n",
    "            dataset.append(json.loads(line))\n",
    "    return dataset\n",
    "\n",
    "# main function\n",
    "service = 'aoss'\n",
    "credentials = boto3.Session().get_credentials()\n",
    "awsauth = AWS4Auth(credentials.access_key, credentials.secret_key, region, service, session_token=credentials.token)\n",
    "\n",
    "index = 'demo-index'\n",
    "datatype = '_doc'\n",
    "url = host + '/' + index + '/' + datatype\n",
    "\n",
    "headers = {'Content-Type': 'application/json'}\n",
    "dataset = load_dataset('dataset.json')\n",
    "for item in dataset:\n",
    "    document = {\n",
    "        'embedding': item['embedding'],\n",
    "        'content': item['text']\n",
    "    }\n",
    "    response = requests.post(url, auth=awsauth, json=document, headers=headers)\n",
    "print('Data loaded into OpenSearch Serverless collection.')\n"
   ]
  },
  {
   "cell_type": "markdown",
   "id": "7a1f49ee-63d4-4dff-81d3-fd6312b7eb5a",
   "metadata": {},
   "source": [
    "**Realizar una búsqueda**\n",
    "\n",
    "En el siguiente código de ejemplo se muestra cómo realizar una búsqueda entre el conjunto de datos."
   ]
  },
  {
   "cell_type": "code",
   "execution_count": 10,
   "id": "714e99da-8b2d-4c7b-98a9-28b49ec43f49",
   "metadata": {},
   "outputs": [
    {
     "name": "stdout",
     "output_type": "stream",
     "text": [
      "Marie Curie sells sea shells in Los Angeles.\n",
      "Marie Curie manages a shop in Los Angeles.\n",
      "Marie Curie sells sea shells in Sydney.\n",
      "Marie Curie sells sea shells in Seoul.\n",
      "Marie Curie sells sea shells in Beijing.\n"
     ]
    }
   ],
   "source": [
    "import json\n",
    "import boto3\n",
    "import requests\n",
    "from requests_aws4auth import AWS4Auth\n",
    "\n",
    "def get_embedding(bedrock, text):\n",
    "    modelId = 'amazon.titan-embed-text-v1'\n",
    "    accept = 'application/json'\n",
    "    contentType = 'application/json'\n",
    "    input = {\n",
    "            'inputText': text\n",
    "        }\n",
    "    body=json.dumps(input)\n",
    "    response = bedrock.invoke_model(\n",
    "        body=body, modelId=modelId, accept=accept,contentType=contentType)\n",
    "    response_body = json.loads(response.get('body').read())\n",
    "    embedding = response_body['embedding']\n",
    "    return embedding\n",
    "\n",
    "def search(region, host, index, embedding, limit):\n",
    "    credentials = boto3.Session().get_credentials()\n",
    "    awsauth = AWS4Auth(\n",
    "        credentials.access_key, \n",
    "        credentials.secret_key, \n",
    "        region, \n",
    "        \"aoss\", \n",
    "        session_token=credentials.token\n",
    "    )\n",
    "    datatype = '_search'\n",
    "    url = host + '/' + index + '/' + datatype\n",
    "    headers = {'Content-Type': 'application/json'}\n",
    "    document = {\n",
    "        'size': limit,\n",
    "        'query': {\n",
    "            'knn': {\n",
    "                'embedding': {\n",
    "                    'vector': embedding,\n",
    "                    'k': limit\n",
    "                }\n",
    "            }\n",
    "        }\n",
    "    }\n",
    "    response = requests.get(url, auth=awsauth, json=document, headers=headers)\n",
    "    response.raise_for_status()\n",
    "    return response.json()\n",
    "\n",
    "# main function\n",
    "bedrock = boto3.client(\n",
    "    service_name='bedrock-runtime'\n",
    ")\n",
    "query = 'Lady Gaga purchased a necklace in Singapore.'\n",
    "embedding = get_embedding(bedrock, query)\n",
    "index = 'demo-index'\n",
    "limit = 5\n",
    "result = search(region, host, index, embedding, limit)\n",
    "\n",
    "for item in result['hits']['hits']:\n",
    "    print(item['_source']['content'])\n"
   ]
  }
 ],
 "metadata": {
  "kernelspec": {
   "display_name": "Python 3 (ipykernel)",
   "language": "python",
   "name": "python3"
  },
  "language_info": {
   "codemirror_mode": {
    "name": "ipython",
    "version": 3
   },
   "file_extension": ".py",
   "mimetype": "text/x-python",
   "name": "python",
   "nbconvert_exporter": "python",
   "pygments_lexer": "ipython3",
   "version": "3.10.14"
  }
 },
 "nbformat": 4,
 "nbformat_minor": 5
}
